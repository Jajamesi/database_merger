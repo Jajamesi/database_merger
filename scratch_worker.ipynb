{
 "cells": [
  {
   "cell_type": "code",
   "id": "initial_id",
   "metadata": {
    "collapsed": true,
    "ExecuteTime": {
     "end_time": "2024-12-24T11:00:14.173604Z",
     "start_time": "2024-12-24T11:00:14.170411Z"
    }
   },
   "source": [
    "import os\n",
    "import pathlib\n",
    "import shutil\n",
    "import constants\n",
    "import pydataprocessing as dp"
   ],
   "outputs": [],
   "execution_count": 11
  },
  {
   "metadata": {
    "ExecuteTime": {
     "end_time": "2024-12-24T11:00:40.863936Z",
     "start_time": "2024-12-24T11:00:14.406469Z"
    }
   },
   "cell_type": "code",
   "source": [
    "# create folders\n",
    "df, meta = dp.read_spss(\"base_from_m_drive.zsav\")\n",
    "\n",
    "for reg_i, reg_folder in constants.REGIONS_DICT.items():\n",
    "    if not os.path.exists(f\"M/Количественные исследования/{reg_folder}\"):\n",
    "        os.mkdir(f\"M/Количественные исследования/{reg_folder}\")\n",
    "        os.mkdir(f\"M/Количественные исследования/{reg_folder}/test project\")\n",
    "\n",
    "\n",
    "    dp.write_spss(\n",
    "        df.loc[df[\"region\"]==reg_i],\n",
    "        meta,\n",
    "        f\"M/Количественные исследования/{reg_folder}/test project\",\n",
    "        f\"{reg_folder}_база_{reg_i}\"\n",
    "    )\n"
   ],
   "id": "9d367bce98a81091",
   "outputs": [],
   "execution_count": 12
  },
  {
   "metadata": {},
   "cell_type": "code",
   "outputs": [],
   "execution_count": null,
   "source": "",
   "id": "d673095f0d54e1c9"
  }
 ],
 "metadata": {
  "kernelspec": {
   "display_name": "Python 3",
   "language": "python",
   "name": "python3"
  },
  "language_info": {
   "codemirror_mode": {
    "name": "ipython",
    "version": 2
   },
   "file_extension": ".py",
   "mimetype": "text/x-python",
   "name": "python",
   "nbconvert_exporter": "python",
   "pygments_lexer": "ipython2",
   "version": "2.7.6"
  }
 },
 "nbformat": 4,
 "nbformat_minor": 5
}
